{
 "cells": [
  {
   "cell_type": "code",
   "execution_count": null,
   "id": "e01ef711",
   "metadata": {},
   "outputs": [],
   "source": [
    "import requests\n",
    "import pandas as pd\n",
    "import numpy as np\n",
    "import matplotlib.pyplot as plt\n",
    "\n",
    "# Tu API key de Alpha Vantage\n",
    "api_key = 'YOUR_ALPHA_VANTAGE_API_KEY'\n",
    "ticker = 'AAPL'"
   ]
  },
  {
   "cell_type": "code",
   "execution_count": null,
   "id": "505ac041",
   "metadata": {},
   "outputs": [],
   "source": [
    "# Balance Sheet\n",
    "def get_balance_sheet(ticker):\n",
    "    url = f'https://www.alphavantage.co/query?function=BALANCE_SHEET&symbol={ticker}&apikey={api_key}'\n",
    "    r = requests.get(url)\n",
    "    data = r.json()\n",
    "    return pd.DataFrame(data['annualReports'])\n",
    "\n",
    "# Income Statement\n",
    "def get_income_statement(ticker):\n",
    "    url = f'https://www.alphavantage.co/query?function=INCOME_STATEMENT&symbol={ticker}&apikey={api_key}'\n",
    "    r = requests.get(url)\n",
    "    data = r.json()\n",
    "    return pd.DataFrame(data['annualReports'])\n",
    "\n",
    "# Cash Flow\n",
    "def get_cash_flow(ticker):\n",
    "    url = f'https://www.alphavantage.co/query?function=CASH_FLOW&symbol={ticker}&apikey={api_key}'\n",
    "    r = requests.get(url)\n",
    "    data = r.json()\n",
    "    return pd.DataFrame(data['annualReports'])"
   ]
  },
  {
   "cell_type": "code",
   "execution_count": null,
   "id": "fd4b4c8f",
   "metadata": {},
   "outputs": [],
   "source": [
    "def preparar_datos_avanzado(ticker):\n",
    "    bs = get_balance_sheet(ticker)\n",
    "    is_ = get_income_statement(ticker)\n",
    "    cf = get_cash_flow(ticker)\n",
    "\n",
    "    for df in [bs, is_, cf]:\n",
    "        df.set_index('fiscalDateEnding', inplace=True)\n",
    "        df.sort_index(inplace=True)\n",
    "        for col in df.columns:\n",
    "            df[col] = pd.to_numeric(df[col], errors='coerce')\n",
    "\n",
    "    ni = is_['netIncome']\n",
    "    revenue = is_['totalRevenue']\n",
    "    cfo = cf['operatingCashflow']\n",
    "    capex = cf['capitalExpenditures']\n",
    "    total_assets = bs['totalAssets']\n",
    "\n",
    "    accruals = ni - cfo\n",
    "    delta_accruals = accruals.diff()\n",
    "    avg_assets = (total_assets + total_assets.shift(1)) / 2\n",
    "    sloan_ratio = delta_accruals / avg_assets\n",
    "    ccr = cfo / ni\n",
    "    capex_cfo = capex / cfo\n",
    "    tata = (ni - cfo) / total_assets\n",
    "    m_score = -4.84 + 4.679 * tata\n",
    "\n",
    "    df = pd.DataFrame({\n",
    "        'Revenue': revenue,\n",
    "        'Net Income': ni,\n",
    "        'CFO': cfo,\n",
    "        'CapEx': capex,\n",
    "        'Sloan Ratio': sloan_ratio,\n",
    "        'CCR': ccr,\n",
    "        'CapEx/CFO': capex_cfo,\n",
    "        'Beneish M-Score': m_score\n",
    "    })\n",
    "\n",
    "    return df.dropna()"
   ]
  },
  {
   "cell_type": "code",
   "execution_count": null,
   "id": "515e93a2",
   "metadata": {},
   "outputs": [],
   "source": [
    "def plot_calidad_ganancias(df):\n",
    "    df[['Growth NI (%)', 'Growth CFO (%)']].plot(kind='bar', figsize=(10,6), title=\"Crecimiento CFO vs Net Income\")\n",
    "    plt.axhline(0, color='black', linewidth=1)\n",
    "    plt.tight_layout()\n",
    "    plt.show()\n",
    "\n",
    "    df['Sloan Ratio'].plot(kind='bar', title=\"Sloan Ratio (Accruals/Assets)\", figsize=(10,6))\n",
    "    plt.axhline(0, color='black', linewidth=1)\n",
    "    plt.tight_layout()\n",
    "    plt.show()"
   ]
  },
  {
   "cell_type": "code",
   "execution_count": null,
   "id": "5590fce2",
   "metadata": {},
   "outputs": [],
   "source": [
    "def calcular_ccr(df):\n",
    "    df['CCR'] = df['CFO'] / df['Net Income']\n",
    "    return df"
   ]
  },
  {
   "cell_type": "code",
   "execution_count": null,
   "id": "35ed29f9",
   "metadata": {},
   "outputs": [],
   "source": [
    "def calcular_beneish(df, bs, is_):\n",
    "    # Requiere ventas y activos totales para TATA\n",
    "    total_assets = bs['totalAssets']\n",
    "    ni = is_['netIncome']\n",
    "    cfo = df['CFO']\n",
    "\n",
    "    # TATA = (NI - CFO) / Total Assets\n",
    "    tata = (ni - cfo) / total_assets\n",
    "\n",
    "    # Solo una versión simplificada del M-Score usando TATA\n",
    "    m_score = -4.84 + 4.679 * tata.fillna(0)\n",
    "\n",
    "    df['TATA'] = tata\n",
    "    df['Beneish M-Score'] = m_score\n",
    "    return df"
   ]
  },
  {
   "cell_type": "code",
   "execution_count": null,
   "id": "0c8f23b6",
   "metadata": {},
   "outputs": [],
   "source": [
    "def color_semaforo(val, metric):\n",
    "    \n",
    "    if metric == 'Sloan Ratio':\n",
    "        if val > 0.15:\n",
    "            return 'background-color: red'\n",
    "        elif val > 0.10:\n",
    "            return 'background-color: yellow'\n",
    "        else:\n",
    "            return 'background-color: lightgreen'\n",
    "\n",
    "    elif metric == 'CCR':\n",
    "        if val < 0.8:\n",
    "            return 'background-color: red'\n",
    "        elif val < 1.0:\n",
    "            return 'background-color: yellow'\n",
    "        else:\n",
    "            return 'background-color: lightgreen'\n",
    "\n",
    "    elif metric == 'Beneish M-Score':\n",
    "        if val > -1.78:\n",
    "            return 'background-color: red'\n",
    "        elif val > -2.0:\n",
    "            return 'background-color: yellow'\n",
    "        else:\n",
    "            return 'background-color: lightgreen'\n",
    "\n",
    "    return ''"
   ]
  },
  {
   "cell_type": "code",
   "execution_count": null,
   "id": "99e68fde",
   "metadata": {},
   "outputs": [],
   "source": [
    "def aplicar_semaforo(df):\n",
    "    return df.style.applymap(lambda x: color_semaforo(x, 'Sloan Ratio'), subset=['Sloan Ratio'])\\\n",
    "                   .applymap(lambda x: color_semaforo(x, 'CCR'), subset=['CCR'])\\\n",
    "                   .applymap(lambda x: color_semaforo(x, 'Beneish M-Score'), subset=['Beneish M-Score'])"
   ]
  },
  {
   "cell_type": "code",
   "execution_count": null,
   "id": "a47f2b8c",
   "metadata": {},
   "outputs": [],
   "source": [
    "# Preparar datos\n",
    "df_avanzado = preparar_datos_avanzado(ticker)\n",
    "\n",
    "# Obtener datos originales para Beneish\n",
    "bs = get_balance_sheet(ticker)\n",
    "is_ = get_income_statement(ticker)\n",
    "\n",
    "# Calcular Beneish\n",
    "df_completo = calcular_beneish(df_avanzado, bs, is_)\n",
    "\n",
    "# Ver resultados\n",
    "df_alertas = df_completo[['Sloan Ratio', 'CCR', 'Beneish M-Score']]\n",
    "aplicar_semaforo(df_alertas)"
   ]
  },
  {
   "cell_type": "code",
   "execution_count": null,
   "id": "bb3887cb",
   "metadata": {},
   "outputs": [],
   "source": [
    "df_completo[['Sloan Ratio', 'CCR', 'CapEx/CFO']].plot(kind='barh', figsize=(10,6), title=f\"Indicadores clave - {ticker}\")\n",
    "plt.grid(True)"
   ]
  },
  {
   "cell_type": "code",
   "execution_count": null,
   "id": "0ad20e55",
   "metadata": {},
   "outputs": [],
   "source": [
    "def diagnostico_ganancias(df, ticker):\n",
    "    year = df.index[-1]\n",
    "    sloan = df.loc[year, 'Sloan Ratio']\n",
    "    ccr = df.loc[year, 'CCR']\n",
    "    mscore = df.loc[year, 'Beneish M-Score']\n",
    "\n",
    "    resumen = f\"\"\"Diagnóstico Financiero para {ticker} - {year}\n",
    "▪ Sloan Ratio: {sloan:.2f} {'!!' if sloan > 0.15 else '[Bueno]'}\n",
    "▪ Cash Conversion Ratio: {ccr:.2f} {'!!' if ccr < 0.8 else '[Bueno]'}\n",
    "▪ Beneish M-Score: {mscore:.2f} {'!!' if mscore > -1.78 else '[Bueno]'}\n",
    "\"\"\"\n",
    "    print(resumen)"
   ]
  },
  {
   "cell_type": "code",
   "execution_count": null,
   "id": "66b6b827",
   "metadata": {},
   "outputs": [],
   "source": [
    "diagnostico_ganancias(df_completo, ticker)"
   ]
  },
  {
   "cell_type": "code",
   "execution_count": null,
   "id": "d8a07a9e",
   "metadata": {},
   "outputs": [],
   "source": [
    "import matplotlib.pyplot as plt\n",
    "\n",
    "def graficar_tendencias(df, ticker):\n",
    "    plt.figure(figsize=(12,6))\n",
    "    df[['Sloan Ratio', 'CCR', 'CapEx/CFO']].plot(marker='o', title=f\"Calidad de Ganancias - {ticker}\", figsize=(12,6))\n",
    "    plt.axhline(0.1, color='gray', linestyle='--', label=\"Límite Sloan sano (0.10)\")\n",
    "    plt.ylabel(\"Valor\")\n",
    "    plt.grid(True)\n",
    "    plt.legend()\n",
    "    plt.xticks(rotation=45)\n",
    "    plt.tight_layout()\n",
    "    plt.show()\n",
    "\n",
    "    df['Beneish M-Score'].plot(marker='o', figsize=(12,5), title=f\"Beneish M-Score - {ticker}\")\n",
    "    plt.axhline(-1.78, color='red', linestyle='--', label=\"Umbral de alerta\")\n",
    "    plt.grid(True)\n",
    "    plt.xticks(rotation=45)\n",
    "    plt.legend()\n",
    "    plt.tight_layout()\n",
    "    plt.show()"
   ]
  },
  {
   "cell_type": "code",
   "execution_count": null,
   "id": "fbf416c9",
   "metadata": {},
   "outputs": [],
   "source": [
    "def diagnostico_tendencia(df, ticker):\n",
    "    ultimos = df.tail(3)\n",
    "    print(f\"Tendencia de {ticker} (últimos 3 años)\")\n",
    "    print(f\"▪ Sloan Ratio: ({ultimos['Sloan Ratio'].iloc[0]:.2f} -> {ultimos['Sloan Ratio'].iloc[-1]:.2f})\")\n",
    "    print(f\"▪ CCR: ({ultimos['CCR'].iloc[0]:.2f} -> {ultimos['CCR'].iloc[-1]:.2f})\")"
   ]
  },
  {
   "cell_type": "code",
   "execution_count": null,
   "id": "f7e7cb5a",
   "metadata": {},
   "outputs": [],
   "source": [
    "df_multi = preparar_datos_avanzado(ticker)\n",
    "graficar_tendencias(df_multi, ticker)\n",
    "diagnostico_tendencia(df_multi, ticker)"
   ]
  }
 ],
 "metadata": {
  "kernelspec": {
   "display_name": "Python 3",
   "language": "python",
   "name": "python3"
  },
  "language_info": {
   "codemirror_mode": {
    "name": "ipython",
    "version": 3
   },
   "file_extension": ".py",
   "mimetype": "text/x-python",
   "name": "python",
   "nbconvert_exporter": "python",
   "pygments_lexer": "ipython3",
   "version": "3.11.9"
  }
 },
 "nbformat": 4,
 "nbformat_minor": 5
}

