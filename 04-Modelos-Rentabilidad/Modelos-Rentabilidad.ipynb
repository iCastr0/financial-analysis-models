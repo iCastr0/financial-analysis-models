{
 "cells": [
  {
   "cell_type": "code",
   "execution_count": 1,
   "id": "005444a7",
   "metadata": {},
   "outputs": [],
   "source": [
    "import requests\n",
    "import pandas as pd\n",
    "import matplotlib.pyplot as plt\n",
    "\n",
    "FMP_API_KEY = 'YOUR_FINANCIAL_MODELING_PREP_API_KEY'\n",
    "ticker = 'BHP'\n",
    "\n",
    "# Función para obtener cualquier endpoint\n",
    "def get_fmp_data(endpoint, ticker):\n",
    "    url = f'https://financialmodelingprep.com/api/v3/{endpoint}/{ticker}?apikey={FMP_API_KEY}'\n",
    "    response = requests.get(url)\n",
    "    return response.json()\n"
   ]
  },
  {
   "cell_type": "code",
   "execution_count": 2,
   "id": "2d3af33a",
   "metadata": {},
   "outputs": [],
   "source": [
    "profile = get_fmp_data('profile', ticker)\n",
    "ratios = get_fmp_data('ratios', ticker)\n",
    "income_statement = get_fmp_data('income-statement', ticker)\n",
    "balance_sheet = get_fmp_data('balance-sheet-statement', ticker)\n",
    "key_metrics = get_fmp_data('key-metrics', ticker)"
   ]
  },
  {
   "cell_type": "code",
   "execution_count": 3,
   "id": "b9375079",
   "metadata": {},
   "outputs": [
    {
     "name": "stdout",
     "output_type": "stream",
     "text": [
      "ROIC: 11.91%, WACC: 9.00%\n"
     ]
    }
   ],
   "source": [
    "def calcular_roic_wacc_fmp(income_list, balance_list, ratios_list, metrics_list):\n",
    "    income = income_list[0]\n",
    "    balance = balance_list[0]\n",
    "    ratios = ratios_list[0]\n",
    "    metrics = metrics_list[0]\n",
    "\n",
    "    # Usamos operatingIncome como proxy de EBIT si no hay 'ebit'\n",
    "    EBIT = income.get('ebit') or income.get('operatingIncome')\n",
    "    if EBIT is None:\n",
    "        raise ValueError(\"No se encontró EBIT ni operatingIncome en income statement.\")\n",
    "\n",
    "    tax_rate = ratios.get('effectiveTaxRate', 0.21)\n",
    "    total_assets = balance.get('totalAssets')\n",
    "    current_liabilities = balance.get('totalCurrentLiabilities', 0)\n",
    "\n",
    "    if total_assets is None:\n",
    "        raise ValueError(\"No se encontró totalAssets en balance sheet.\")\n",
    "\n",
    "    capital_empleado = total_assets - current_liabilities\n",
    "    nopat = EBIT * (1 - tax_rate)\n",
    "    roic = nopat / capital_empleado\n",
    "\n",
    "    wacc = metrics.get('wacc', 0.09)\n",
    "\n",
    "    return round(roic, 4), round(wacc, 4), round(nopat, 2), round(capital_empleado, 2)\n",
    "roic, wacc, nopat, capital_empleado = calcular_roic_wacc_fmp(income_statement, balance_sheet, ratios, key_metrics)\n",
    "print(f\"ROIC: {roic*100:.2f}%, WACC: {wacc*100:.2f}%\")"
   ]
  },
  {
   "cell_type": "code",
   "execution_count": 4,
   "id": "2e7620cb",
   "metadata": {},
   "outputs": [
    {
     "name": "stdout",
     "output_type": "stream",
     "text": [
      "EVA: 2,565,880,600.70\n"
     ]
    }
   ],
   "source": [
    "def calcular_eva(nopat, wacc, capital_empleado):\n",
    "    eva = nopat - (wacc * capital_empleado)\n",
    "    return round(eva, 2)\n",
    "\n",
    "eva = calcular_eva(nopat, wacc, capital_empleado)\n",
    "print(f\"EVA: {eva:,.2f}\")\n"
   ]
  },
  {
   "cell_type": "code",
   "execution_count": 5,
   "id": "fbcdaba7",
   "metadata": {},
   "outputs": [
    {
     "name": "stdout",
     "output_type": "stream",
     "text": [
      "ROE: 17.62%\n",
      "Margen Neto: 14.09%\n",
      "Rotación Activos: 0.55\n",
      "Apalancamiento: 2.28\n"
     ]
    }
   ],
   "source": [
    "def analisis_dupont(income, balance):\n",
    "    net_income = income['netIncome']\n",
    "    revenue = income['revenue']\n",
    "    total_assets = balance['totalAssets']\n",
    "    equity = balance['totalStockholdersEquity']\n",
    "\n",
    "    roe = net_income / equity\n",
    "    pm = net_income / revenue\n",
    "    at = revenue / total_assets\n",
    "    fl = total_assets / equity\n",
    "\n",
    "    return round(roe, 4), round(pm, 4), round(at, 4), round(fl, 4)\n",
    "\n",
    "roe, pm, at, fl = analisis_dupont(income_statement[0], balance_sheet[0])\n",
    "\n",
    "print(\n",
    "    f\"ROE: {roe * 100:.2f}%\\n\"\n",
    "    f\"Margen Neto: {pm * 100:.2f}%\\n\"\n",
    "    f\"Rotación Activos: {at:.2f}\\n\"\n",
    "    f\"Apalancamiento: {fl:.2f}\"\n",
    ")"
   ]
  },
  {
   "cell_type": "code",
   "execution_count": 6,
   "id": "f8ff6fc2",
   "metadata": {},
   "outputs": [
    {
     "name": "stdout",
     "output_type": "stream",
     "text": [
      "RESUMEN DE RENTABILIDAD FINANCIERA\n",
      "========================================\n",
      "Ticker analizado: BHP\n",
      "   ▪ ROIC: 11.91%\n",
      "   ▪ WACC estimado: 9.00%\n",
      "   ▪ Valor Económico Agregado (EVA): $2,565,880,600.70\n",
      "\n",
      "Análisis DuPont (descomposición del ROE):\n",
      "   ▪ ROE: 17.62%\n",
      "   ▪ Margen Neto (PM): 14.09%\n",
      "   ▪ Rotación de Activos (AT): 0.55\n",
      "   ▪ Apalancamiento Financiero (FL): 2.28\n"
     ]
    }
   ],
   "source": [
    "print(\"RESUMEN DE RENTABILIDAD FINANCIERA\")\n",
    "print(\"=\"*40)\n",
    "print(f\"Ticker analizado: {ticker}\")\n",
    "\n",
    "# ROIC vs WACC\n",
    "print(f\"   ▪ ROIC: {roic*100:.2f}%\")\n",
    "print(f\"   ▪ WACC estimado: {wacc*100:.2f}%\")\n",
    "print(f\"   ▪ Valor Económico Agregado (EVA): ${eva:,.2f}\")\n",
    "\n",
    "# Análisis DuPont\n",
    "print(\"\\nAnálisis DuPont (descomposición del ROE):\")\n",
    "print(f\"   ▪ ROE: {roe*100:.2f}%\")\n",
    "print(f\"   ▪ Margen Neto (PM): {pm*100:.2f}%\")\n",
    "print(f\"   ▪ Rotación de Activos (AT): {at:.2f}\")\n",
    "print(f\"   ▪ Apalancamiento Financiero (FL): {fl:.2f}\")\n"
   ]
  }
 ],
 "metadata": {
  "kernelspec": {
   "display_name": "Python 3",
   "language": "python",
   "name": "python3"
  },
  "language_info": {
   "codemirror_mode": {
    "name": "ipython",
    "version": 3
   },
   "file_extension": ".py",
   "mimetype": "text/x-python",
   "name": "python",
   "nbconvert_exporter": "python",
   "pygments_lexer": "ipython3",
   "version": "3.11.9"
  }
 },
 "nbformat": 4,
 "nbformat_minor": 5
}
